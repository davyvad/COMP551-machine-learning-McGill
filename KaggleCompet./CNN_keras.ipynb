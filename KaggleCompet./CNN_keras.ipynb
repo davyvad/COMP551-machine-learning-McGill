{
 "cells": [
  {
   "cell_type": "code",
   "execution_count": 1,
   "metadata": {
    "colab": {},
    "colab_type": "code",
    "id": "QgU3zQsP3MYG"
   },
   "outputs": [
    {
     "name": "stderr",
     "output_type": "stream",
     "text": [
      "/Users/davidvalensi/anaconda3/lib/python3.6/site-packages/h5py/__init__.py:36: FutureWarning: Conversion of the second argument of issubdtype from `float` to `np.floating` is deprecated. In future, it will be treated as `np.float64 == np.dtype(float).type`.\n",
      "  from ._conv import register_converters as _register_converters\n",
      "Using TensorFlow backend.\n"
     ]
    }
   ],
   "source": [
    "# 3. Import libraries and modules\n",
    "import numpy as np\n",
    "np.random.seed(123)  # for reproducibility\n",
    " \n",
    "from keras.models import Sequential\n",
    "from keras.layers import Dense, Dropout, Activation, Flatten\n",
    "from keras.layers import Convolution2D, MaxPooling2D, Conv2D,BatchNormalization\n",
    "from keras.utils import np_utils\n",
    "from keras.datasets import mnist\n",
    "import matplotlib.pyplot as plt\n",
    "import pandas as pd\n",
    "import cv2\n",
    "from tensorflow.python.keras import Sequential\n",
    "from tensorflow.keras.layers import Convolution2D, MaxPooling2D, Conv2D,BatchNormalization, Dense, Dropout, Activation, Flatten\n",
    "from sklearn.metrics import accuracy_score\n",
    "\n",
    "from tensorflow import keras \n",
    "import tensorflow as tf"
   ]
  },
  {
   "cell_type": "code",
   "execution_count": 13,
   "metadata": {
    "colab": {
     "base_uri": "https://localhost:8080/",
     "height": 139
    },
    "colab_type": "code",
    "executionInfo": {
     "elapsed": 55575,
     "status": "ok",
     "timestamp": 1543240463718,
     "user": {
      "displayName": "david valensi",
      "photoUrl": "",
      "userId": "17529555847511893594"
     },
     "user_tz": 300
    },
    "id": "kmvfg3p23SBs",
    "outputId": "55dd9a1b-1dc9-4ad1-e06d-051e380e9de4"
   },
   "outputs": [
    {
     "name": "stdout",
     "output_type": "stream",
     "text": [
      "(10000, 10000) (10000, 10000)\n"
     ]
    }
   ],
   "source": [
    "\n",
    "#from google.colab import drive\n",
    "#drive.mount('/content/drive')\n",
    "\n",
    "# read images data\n",
    "def imageDataFormat(imagesfile):\n",
    "    imagesData = np.load(imagesfile, encoding='latin1')[:, 1]   \n",
    "    image_train = np.zeros((len(imagesData), len(imagesData[0])))\n",
    "    for i in range(len(imagesData)):\n",
    "        image_train[i] = imagesData[i]\n",
    "    return image_train\n",
    "\n",
    "train_images = imageDataFormat('./all/train_images.npy')\n",
    "test_images = imageDataFormat('./all/test_images.npy')\n",
    "\n",
    "#train_images = imageDataFormat('/content/drive/My Drive/Colab Notebooks/train_images.npy')\n",
    "#test_images= imageDataFormat('/content/drive/My Drive/Colab Notebooks/test_images.npy')\n",
    "print(train_images.shape, test_images.shape)"
   ]
  },
  {
   "cell_type": "code",
   "execution_count": 33,
   "metadata": {
    "colab": {},
    "colab_type": "code",
    "id": "XSGtBt4uHXOz"
   },
   "outputs": [],
   "source": [
    "from sklearn.preprocessing import LabelEncoder\n",
    "from keras.utils.np_utils import to_categorical\n",
    "\n",
    "#train_labels = pd.read_csv('/content/drive/My Drive/Colab Notebooks/train_labels.csv',sep = ',',usecols = [1])\n",
    "train_labels = pd.read_csv('./all/train_labels.csv',sep = ',',usecols = [1])\n",
    "\n",
    "encoder = LabelEncoder()\n",
    "encoder.fit(train_labels['Category'])\n",
    "y_train = encoder.transform(train_labels['Category'])\n",
    "y_train = to_categorical(y_train,31)"
   ]
  },
  {
   "cell_type": "code",
   "execution_count": 8,
   "metadata": {},
   "outputs": [
    {
     "data": {
      "text/plain": [
       "(10000, 31)"
      ]
     },
     "execution_count": 8,
     "metadata": {},
     "output_type": "execute_result"
    }
   ],
   "source": [
    "y_train.shape"
   ]
  },
  {
   "cell_type": "code",
   "execution_count": 22,
   "metadata": {
    "colab": {
     "base_uri": "https://localhost:8080/",
     "height": 34
    },
    "colab_type": "code",
    "executionInfo": {
     "elapsed": 10855,
     "status": "ok",
     "timestamp": 1543245033755,
     "user": {
      "displayName": "david valensi",
      "photoUrl": "",
      "userId": "17529555847511893594"
     },
     "user_tz": 300
    },
    "id": "OivmDJkd3UBk",
    "outputId": "d622049f-3451-4db9-ac09-b48cf843b152"
   },
   "outputs": [
    {
     "name": "stdout",
     "output_type": "stream",
     "text": [
      "(10000, 100, 100)\n"
     ]
    }
   ],
   "source": [
    "def center_of_image(image):\n",
    "    M = cv2.moments(image)\n",
    "    midX = int(M[\"m10\"] / M[\"m00\"]) \n",
    "    midY = int(M[\"m01\"] / M[\"m00\"])\n",
    "    rows,cols = image.shape\n",
    "    dim = (cols,rows)\n",
    "    centerM = np.float32([[1,0,(rows/2)-midX],[0,1,(cols/2)-midY]])\n",
    "    image = cv2.warpAffine(image,centerM,dim)\n",
    "    return image\n",
    "\n",
    "def preprocess_image2(img):\n",
    "    img = np.uint8(img.reshape(100,100))\n",
    "    Canvas = np.zeros(img.shape)\n",
    "    ret, thresh = cv2.threshold(img, 127, 255, 0)\n",
    "    im2, contours, hierarchy = cv2.findContours(thresh, cv2.RETR_TREE, cv2.CHAIN_APPROX_SIMPLE)\n",
    "    if len(contours) != 0:\n",
    "            contours = max(contours, key=cv2.contourArea)\n",
    "            contourImage = cv2.drawContours(Canvas, [contours], -1, 255, -1)\n",
    "            clean = img * contourImage\n",
    "            clean = center_of_image(clean)\n",
    "            return clean.ravel()    \n",
    "        \n",
    "X=[]\n",
    "for i in range(train_images.shape[0]):\n",
    "    X.append(preprocess_image2(train_images[i]).reshape(100,100))\n",
    "X= np.array(X)\n",
    "\n",
    "X_test=[]\n",
    "for i in range(test_images.shape[0]):\n",
    "    X_test.append(preprocess_image2(test_images[i]).reshape(100,100))\n",
    "X_test= np.array(X_test)\n",
    "print(X_test.shape)\n"
   ]
  },
  {
   "cell_type": "code",
   "execution_count": 30,
   "metadata": {
    "colab": {
     "base_uri": "https://localhost:8080/",
     "height": 248
    },
    "colab_type": "code",
    "executionInfo": {
     "elapsed": 1546,
     "status": "ok",
     "timestamp": 1543253678469,
     "user": {
      "displayName": "david valensi",
      "photoUrl": "",
      "userId": "17529555847511893594"
     },
     "user_tz": 300
    },
    "id": "Uc3-fmcE3-2G",
    "outputId": "20cf26cb-6059-497f-afe9-174d0c62fdf3"
   },
   "outputs": [
    {
     "name": "stdout",
     "output_type": "stream",
     "text": [
      "(9000, 100, 100)\n",
      "(9000, 1, 100, 100) (9000, 31) (1000, 1, 100, 100)\n"
     ]
    },
    {
     "data": {
      "image/png": "[encoded data removed]",
      "text/plain": [
       "<Figure size 216x216 with 1 Axes>"
      ]
     },
     "metadata": {},
     "output_type": "display_data"
    }
   ],
   "source": [
    "# 4. Load data into train and test sets\n",
    "X_train = X[:9000]\n",
    "X_test = X[9000:]\n",
    "print(X_train.shape)\n",
    "\n",
    "plt.figure(figsize=(3, 3))\n",
    "plt.imshow(X_train[4], cmap='gray')\n",
    "# 5. Preprocess input data\n",
    "X_train = X_train.reshape(X_train.shape[0], 1, 100, 100)\n",
    "X_test = X_test.reshape(X_test.shape[0], 1, 100, 100)\n",
    "X_train = X_train.astype('float32')\n",
    "X_test = X_test.astype('float32')\n",
    "X_train /= 255\n",
    "X_test /= 255\n",
    " \n",
    "# 6. Preprocess class labels\n",
    "Y_train = y_train[:9000]\n",
    "Y_test = y_train[9000:]\n",
    "\n",
    "print(X_train.shape, Y_train.shape, X_test.shape)"
   ]
  },
  {
   "cell_type": "code",
   "execution_count": 31,
   "metadata": {
    "colab": {
     "base_uri": "https://localhost:8080/",
     "height": 71
    },
    "colab_type": "code",
    "executionInfo": {
     "elapsed": 2001,
     "status": "ok",
     "timestamp": 1543268468287,
     "user": {
      "displayName": "david valensi",
      "photoUrl": "",
      "userId": "17529555847511893594"
     },
     "user_tz": 300
    },
    "id": "LTgIng0U3yUx",
    "outputId": "26a63a02-14c5-4b33-c209-ada9bc4f8d55"
   },
   "outputs": [
    {
     "name": "stderr",
     "output_type": "stream",
     "text": [
      "/Users/davidvalensi/anaconda3/lib/python3.6/site-packages/keras_preprocessing/image.py:1213: UserWarning: Expected input to be images (as Numpy array) following the data format convention \"channels_last\" (channels on axis 3), i.e. expected either 1, 3 or 4 channels on axis 3. However, it was passed an array with shape (9000, 1, 100, 100) (100 channels).\n",
      "  ' channels).')\n"
     ]
    }
   ],
   "source": [
    "\n",
    "def build_model_cnn():\n",
    "    model = Sequential()\n",
    "\n",
    "    \n",
    "    #model.add(BatchNormalization(axis=3))\n",
    "    model.add(Conv2D(32, (3, 3), activation='relu', data_format=\"channels_first\", input_shape=(1,100,100)))  #changed now from 32 to 128 kernel size\n",
    "    model.add(BatchNormalization(axis=3))\n",
    "    model.add(Conv2D(filters=32, kernel_size=3, padding='Same', activation='relu'))\n",
    "    model.add(BatchNormalization(axis=3))\n",
    "    model.add(Conv2D(filters=32, kernel_size=5, padding='Same', activation='relu'))\n",
    "    model.add(BatchNormalization(axis=3))\n",
    "    model.add(Conv2D(filters=32, kernel_size=5, padding='Same', activation='relu'))\n",
    "    model.add(MaxPooling2D(pool_size=(2,2)))\n",
    "    model.add(Dropout(0.25))\n",
    "\n",
    "    model.add(BatchNormalization(axis=3))\n",
    "    model.add(Conv2D(filters=32, kernel_size=3, padding='Same', activation='relu'))\n",
    "    model.add(BatchNormalization(axis=3))\n",
    "    model.add(Conv2D(filters=32, kernel_size=3, padding='Same', activation='relu'))\n",
    "    model.add(BatchNormalization(axis=3))\n",
    "    model.add(Conv2D(filters=32, kernel_size=5, padding='Same', activation='relu'))\n",
    "    model.add(BatchNormalization(axis=3))\n",
    "    model.add(Conv2D(filters=32, kernel_size=5, padding='Same', activation='relu'))\n",
    "    model.add(MaxPooling2D(pool_size=(2,2)))\n",
    "    model.add(Dropout(0.25))\n",
    "    \n",
    "    model.add(BatchNormalization(axis=3))\n",
    "    model.add(Conv2D(filters=32, kernel_size=3, padding='Same', activation='relu'))\n",
    "    model.add(BatchNormalization(axis=3))\n",
    "    model.add(Conv2D(filters=32, kernel_size=3, padding='Same', activation='relu'))\n",
    "    model.add(BatchNormalization(axis=3))\n",
    "    model.add(Conv2D(filters=32, kernel_size=5, padding='Same', activation='relu'))\n",
    "    model.add(BatchNormalization(axis=3))\n",
    "    model.add(Conv2D(filters=32, kernel_size=5, padding='Same', activation='relu'))\n",
    "    model.add(MaxPooling2D(pool_size=(2,2)))\n",
    "    model.add(Dropout(0.25))\n",
    " \n",
    "    model.add(Flatten())\n",
    "    model.add(Dense(1024, activation='relu'))\n",
    "    model.add(Dropout(0.5))\n",
    "    model.add(Dense(512, activation='relu'))\n",
    "    model.add(Dense(31, activation='softmax'))\n",
    "\n",
    "    \n",
    "    return model\n",
    " \n",
    "model = build_model_cnn()\n",
    "\n",
    "# 8. Compile model\n",
    "model.compile(loss='categorical_crossentropy',optimizer='adam', metrics=['accuracy'])\n",
    "\n",
    "\n",
    "from keras.preprocessing.image import ImageDataGenerator\n",
    "# With data augmentation to prevent overfitting\n",
    "datagen = ImageDataGenerator(horizontal_flip=True, vertical_flip=True, rotation_range=30)\n",
    "\n",
    "datagen.fit(X_train)"
   ]
  },
  {
   "cell_type": "code",
   "execution_count": 0,
   "metadata": {
    "colab": {},
    "colab_type": "code",
    "id": "_07lEdBvuzKC"
   },
   "outputs": [],
   "source": []
  },
  {
   "cell_type": "code",
   "execution_count": 0,
   "metadata": {
    "colab": {
     "base_uri": "https://localhost:8080/",
     "height": 921
    },
    "colab_type": "code",
    "executionInfo": {
     "elapsed": 69686,
     "status": "ok",
     "timestamp": 1543244885579,
     "user": {
      "displayName": "david valensi",
      "photoUrl": "",
      "userId": "17529555847511893594"
     },
     "user_tz": 300
    },
    "id": "j7PJ6oS436N2",
    "outputId": "1450e064-32e6-4341-fd66-c76363de6628"
   },
   "outputs": [
    {
     "name": "stderr",
     "output_type": "stream",
     "text": [
      "/usr/local/lib/python3.6/dist-packages/keras_preprocessing/image.py:1643: UserWarning: NumpyArrayIterator is set to use the data format convention \"channels_last\" (channels on axis 3), i.e. expected either 1, 3, or 4 channels on axis 3. However, it was passed an array with shape (9000, 1, 100, 100) (100 channels).\n",
      "  str(self.x.shape[channels_axis]) + ' channels).')\n"
     ]
    },
    {
     "name": "stdout",
     "output_type": "stream",
     "text": [
      "Epoch 1/25\n",
      "300/300 [==============================] - 48s 161ms/step - loss: 2.6743 - acc: 0.2266\n",
      "Epoch 2/25\n",
      "300/300 [==============================] - 41s 136ms/step - loss: 2.0852 - acc: 0.3772\n",
      "Epoch 3/25\n",
      "300/300 [==============================] - 41s 138ms/step - loss: 1.8537 - acc: 0.4530\n",
      "Epoch 4/25\n",
      "300/300 [==============================] - 41s 137ms/step - loss: 1.6945 - acc: 0.4961\n",
      "Epoch 5/25\n",
      "300/300 [==============================] - 41s 137ms/step - loss: 1.6107 - acc: 0.5221\n",
      "Epoch 6/25\n",
      "300/300 [==============================] - 41s 137ms/step - loss: 1.5460 - acc: 0.5405\n",
      "Epoch 7/25\n",
      "300/300 [==============================] - 41s 137ms/step - loss: 1.4555 - acc: 0.5679\n",
      "Epoch 8/25\n",
      "300/300 [==============================] - 41s 137ms/step - loss: 1.3992 - acc: 0.5850\n",
      "Epoch 9/25\n",
      "300/300 [==============================] - 41s 138ms/step - loss: 1.3311 - acc: 0.6017\n",
      "Epoch 10/25\n",
      "300/300 [==============================] - 41s 137ms/step - loss: 1.3049 - acc: 0.6046\n",
      "Epoch 11/25\n",
      "300/300 [==============================] - 41s 138ms/step - loss: 1.2463 - acc: 0.6259\n",
      "Epoch 12/25\n",
      "300/300 [==============================] - 41s 138ms/step - loss: 1.2243 - acc: 0.6373\n",
      "Epoch 13/25\n",
      "300/300 [==============================] - 41s 138ms/step - loss: 1.1531 - acc: 0.6574\n",
      "Epoch 14/25\n",
      "300/300 [==============================] - 41s 137ms/step - loss: 1.1150 - acc: 0.6609\n",
      "Epoch 15/25\n",
      "300/300 [==============================] - 41s 138ms/step - loss: 1.1120 - acc: 0.6624\n",
      "Epoch 16/25\n",
      "300/300 [==============================] - 41s 138ms/step - loss: 1.0614 - acc: 0.6814\n",
      "Epoch 17/25\n",
      "300/300 [==============================] - 41s 138ms/step - loss: 1.0083 - acc: 0.6919\n",
      "Epoch 18/25\n",
      "300/300 [==============================] - 41s 138ms/step - loss: 0.9964 - acc: 0.6969\n",
      "Epoch 19/25\n",
      "300/300 [==============================] - 42s 140ms/step - loss: 0.9685 - acc: 0.6993\n",
      "Epoch 20/25\n",
      "300/300 [==============================] - 41s 137ms/step - loss: 0.9313 - acc: 0.7165\n",
      "Epoch 21/25\n",
      "300/300 [==============================] - 41s 138ms/step - loss: 0.9125 - acc: 0.7147\n",
      "Epoch 22/25\n",
      "300/300 [==============================] - 41s 137ms/step - loss: 0.8826 - acc: 0.7300\n",
      "Epoch 23/25\n",
      "300/300 [==============================] - 41s 136ms/step - loss: 0.8877 - acc: 0.7250\n",
      "Epoch 24/25\n",
      "300/300 [==============================] - 41s 137ms/step - loss: 0.8279 - acc: 0.7465\n",
      "Epoch 25/25\n",
      "300/300 [==============================] - 41s 138ms/step - loss: 0.8104 - acc: 0.7415\n"
     ]
    }
   ],
   "source": [
    "batch_size=32\n",
    "epochs=25\n",
    "\n",
    "# 9. Fit model on training data\n",
    "#model.fit(X_train, Y_train,   batch_size=batch_size, epochs=epochs, verbose=1)\n",
    " \n",
    " # Fit the model\n",
    "history = model.fit_generator(datagen.flow(X_train,Y_train, batch_size=batch_size),\n",
    "                              epochs = epochs,\n",
    "                              verbose = 1, steps_per_epoch=300)\n",
    "model.save('/content/drive/My Drive/Colab Notebooks/model1.h5')\n",
    "# 10. Evaluate model on test data\n",
    "score = model.evaluate(X_test, Y_test, verbose=0)\n",
    "\n",
    "print(score)"
   ]
  },
  {
   "cell_type": "code",
   "execution_count": null,
   "metadata": {
    "colab": {},
    "colab_type": "code",
    "id": "DKXEfLJ4FYV5"
   },
   "outputs": [],
   "source": [
    "from keras.models import load_model\n",
    "import csv\n",
    "\n",
    "#model = load_model('/content/drive/My Drive/Colab Notebooks/model1.h5')\n",
    "print(X_test.shape)\n",
    "pred_prob =model.predict(X_test)\n",
    "y_classes = pred_prob.argmax(axis=-1)\n",
    "pred = encoder.inverse_transform(y_classes)\n",
    "\n",
    "\n",
    "pred = np.array(pred)\n",
    "print (len(pred))\n",
    "'''\n",
    "with open('/content/drive/My Drive/Colab Notebooks/label_test.csv', 'w', newline='') as csvfile:\n",
    "    writer = csv.writer(csvfile, quoting=csv.QUOTE_MINIMAL)\n",
    "    writer.writerow(['Id', 'Category'])\n",
    "    for i in range (len(pred)):\n",
    "        writer.writerow([str(i)] + [pred[i]])\n",
    "'''\n",
    "accuracy_score(train_labels[9000:], pred)\n"
   ]
  }
 ],
 "metadata": {
  "accelerator": "GPU",
  "colab": {
   "collapsed_sections": [],
   "name": "Untitled3.ipynb",
   "provenance": [],
   "version": "0.3.2"
  },
  "kernelspec": {
   "display_name": "Python 3",
   "language": "python",
   "name": "python3"
  },
  "language_info": {
   "codemirror_mode": {
    "name": "ipython",
    "version": 3
   },
   "file_extension": ".py",
   "mimetype": "text/x-python",
   "name": "python",
   "nbconvert_exporter": "python",
   "pygments_lexer": "ipython3",
   "version": "3.6.5"
  }
 },
 "nbformat": 4,
 "nbformat_minor": 1
}
